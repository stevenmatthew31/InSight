{
  "nbformat": 4,
  "nbformat_minor": 0,
  "metadata": {
    "colab": {
      "name": "Convert Saved Model to tflite [InSight]",
      "provenance": []
    },
    "kernelspec": {
      "name": "python3",
      "display_name": "Python 3"
    },
    "language_info": {
      "name": "python"
    }
  },
  "cells": [
    {
      "cell_type": "markdown",
      "source": [
        "#Convert Saved Model to tflite format"
      ],
      "metadata": {
        "id": "-MwWCAo1NKch"
      }
    },
    {
      "cell_type": "markdown",
      "source": [
        "### Connect to Gdrive"
      ],
      "metadata": {
        "id": "MG7MJ2IaM_mr"
      }
    },
    {
      "cell_type": "code",
      "source": [
        "from google.colab import drive\n",
        "drive.mount('/content/gdrive')"
      ],
      "metadata": {
        "colab": {
          "base_uri": "https://localhost:8080/"
        },
        "id": "at86mSOP4Dpt",
        "outputId": "4fb8aefd-0a97-46e6-ea3e-19029d816112"
      },
      "execution_count": null,
      "outputs": [
        {
          "output_type": "stream",
          "name": "stdout",
          "text": [
            "Mounted at /content/gdrive\n"
          ]
        }
      ]
    },
    {
      "cell_type": "markdown",
      "source": [
        "## Import Librabry"
      ],
      "metadata": {
        "id": "hLoANGGiNDOm"
      }
    },
    {
      "cell_type": "code",
      "source": [
        "try:\n",
        "    %tensorflow_version 2.x\n",
        "except:\n",
        "    pass"
      ],
      "metadata": {
        "id": "BdVqqxxJ5I7q"
      },
      "execution_count": null,
      "outputs": []
    },
    {
      "cell_type": "code",
      "source": [
        "import pathlib\n",
        "import numpy as np\n",
        "import matplotlib.pyplot as plt\n",
        "\n",
        "import tensorflow as tf\n",
        "from tensorflow.keras.preprocessing import image\n",
        "\n",
        "print('\\u2022 Using TensorFlow Version:', tf.__version__)"
      ],
      "metadata": {
        "colab": {
          "base_uri": "https://localhost:8080/"
        },
        "id": "jSZud4PC5DCB",
        "outputId": "1811016f-0301-4ee7-e250-08ecc8f20e93"
      },
      "execution_count": null,
      "outputs": [
        {
          "output_type": "stream",
          "name": "stdout",
          "text": [
            "• Using TensorFlow Version: 2.8.2\n"
          ]
        }
      ]
    },
    {
      "cell_type": "markdown",
      "source": [
        "#### Saved Model path"
      ],
      "metadata": {
        "id": "8WCYhZxMNVOe"
      }
    },
    {
      "cell_type": "code",
      "source": [
        "export_dir = '/content/gdrive/MyDrive/Capstone/training_demo/exported-models/my_model/saved_model'"
      ],
      "metadata": {
        "id": "r8rVbr_Hbpw1"
      },
      "execution_count": null,
      "outputs": []
    },
    {
      "cell_type": "markdown",
      "source": [
        "## Convert from saved model path to export path"
      ],
      "metadata": {
        "id": "tef0tx9rNfdf"
      }
    },
    {
      "cell_type": "code",
      "execution_count": null,
      "metadata": {
        "colab": {
          "base_uri": "https://localhost:8080/"
        },
        "id": "KxOdk5Wl3o6l",
        "outputId": "8cb5512b-c971-47e1-f837-386228a51c08"
      },
      "outputs": [
        {
          "output_type": "stream",
          "name": "stderr",
          "text": [
            "WARNING:absl:Buffer deduplication procedure will be skipped when flatbuffer library is not properly loaded\n"
          ]
        }
      ],
      "source": [
        "\n",
        "converter = tf.lite.TFLiteConverter.from_saved_model(export_dir)\n",
        "converter._experimental_lower_tensor_list_ops = False\n",
        "converter.target_spec.supported_ops = [\n",
        "  tf.lite.OpsSet.TFLITE_BUILTINS, # enable TensorFlow Lite ops.\n",
        "  tf.lite.OpsSet.SELECT_TF_OPS # enable TensorFlow ops.\n",
        "]\n",
        "tflite_model = converter.convert()"
      ]
    },
    {
      "cell_type": "code",
      "source": [
        "# File Size\n",
        "tflite_model_file = pathlib.Path('model.tflite')\n",
        "tflite_model_file.write_bytes(tflite_model)"
      ],
      "metadata": {
        "colab": {
          "base_uri": "https://localhost:8080/"
        },
        "id": "-5GnCrmZ9yJB",
        "outputId": "1335c5ba-d6e6-4708-cc7a-450d39e91d04"
      },
      "execution_count": null,
      "outputs": [
        {
          "output_type": "execute_result",
          "data": {
            "text/plain": [
              "22710524"
            ]
          },
          "metadata": {},
          "execution_count": 14
        }
      ]
    }
  ]
}